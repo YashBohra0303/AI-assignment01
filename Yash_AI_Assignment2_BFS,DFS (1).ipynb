{
 "cells": [
  {
   "cell_type": "code",
   "execution_count": 2,
   "metadata": {},
   "outputs": [],
   "source": [
    "graph={ 51:[3,6],\n",
    "        3:[51,6,9],\n",
    "       6:[3,8,51,57],\n",
    "       9:[3,8],\n",
    "       8:[1,6,9,42],\n",
    "       57:[],\n",
    "       42:[],\n",
    "       1:[8,14],\n",
    "       14:[1,97],\n",
    "       97:[] }"
   ]
  },
  {
   "cell_type": "code",
   "execution_count": 3,
   "metadata": {},
   "outputs": [
    {
     "name": "stdout",
     "output_type": "stream",
     "text": [
      "Vertices of graph: [51, 3, 6, 9, 8, 57, 42, 1, 14, 97]\n",
      "Count of vertices :  10\n",
      "Is 11 present in the graph ? No\n",
      "Is 1 present in the graph ? Yes\n"
     ]
    }
   ],
   "source": [
    "class Graph(object):\n",
    "    \n",
    "    def __init__(self, graph_dict=None):\n",
    "        self.__graph_dict = graph_dict\n",
    "    \n",
    "    def count_vertices(self):\n",
    "        return list(self.__graph_dict.keys())\n",
    "    \n",
    "    def find_vertex(self, vertex):\n",
    "        if vertex in list(self.__graph_dict.keys()):\n",
    "            return ('Yes')\n",
    "            \n",
    "        else:\n",
    "            return ('No')\n",
    "            \n",
    "\n",
    "g = Graph(graph)\n",
    "print(\"Vertices of graph:\", g.count_vertices())\n",
    "print(\"Count of vertices : \", len(g.count_vertices()))\n",
    "print(\"Is 11 present in the graph ?\", g.find_vertex(11))\n",
    "print(\"Is 1 present in the graph ?\", g.find_vertex(1))"
   ]
  },
  {
   "cell_type": "code",
   "execution_count": 20,
   "metadata": {},
   "outputs": [],
   "source": [
    "def bfs(graph,start):\n",
    "    visit_node=[]\n",
    "    queue=[start]\n",
    "    \n",
    "    while queue:\n",
    "        node=queue.pop(0)\n",
    "        if node not in visit_node:\n",
    "            visit_node.append(node)\n",
    "            next=graph[node]\n",
    "            for n in next:\n",
    "                queue.append(n)\n",
    "    return visit_node\n",
    "\n",
    "def dfs(graph,start):\n",
    "    visit_node=[]\n",
    "    stack=[start]\n",
    "    \n",
    "    while stack:\n",
    "        node=stack.pop()\n",
    "        if node in visit_node:\n",
    "            continue\n",
    "        visit_node.append(node)\n",
    "        for n in graph[node]:\n",
    "            stack.append(n)\n",
    "    return visit_node\n",
    "    "
   ]
  },
  {
   "cell_type": "code",
   "execution_count": 21,
   "metadata": {},
   "outputs": [
    {
     "name": "stdout",
     "output_type": "stream",
     "text": [
      "[8, 1, 6, 9, 42, 14, 3, 51, 57, 97]\n"
     ]
    }
   ],
   "source": [
    "print(bfs(graph,8))"
   ]
  },
  {
   "cell_type": "code",
   "execution_count": 22,
   "metadata": {},
   "outputs": [
    {
     "name": "stdout",
     "output_type": "stream",
     "text": [
      "[8, 42, 9, 3, 6, 57, 51, 1, 14, 97]\n"
     ]
    }
   ],
   "source": [
    "print(dfs(graph,8))"
   ]
  },
  {
   "cell_type": "code",
   "execution_count": null,
   "metadata": {},
   "outputs": [],
   "source": []
  },
  {
   "cell_type": "code",
   "execution_count": null,
   "metadata": {},
   "outputs": [],
   "source": []
  }
 ],
 "metadata": {
  "kernelspec": {
   "display_name": "Python 3",
   "language": "python",
   "name": "python3"
  },
  "language_info": {
   "codemirror_mode": {
    "name": "ipython",
    "version": 3
   },
   "file_extension": ".py",
   "mimetype": "text/x-python",
   "name": "python",
   "nbconvert_exporter": "python",
   "pygments_lexer": "ipython3",
   "version": "3.7.3"
  }
 },
 "nbformat": 4,
 "nbformat_minor": 2
}
